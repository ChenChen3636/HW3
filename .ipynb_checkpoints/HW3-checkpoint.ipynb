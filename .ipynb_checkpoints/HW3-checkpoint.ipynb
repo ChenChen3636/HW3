{
 "cells": [
  {
   "cell_type": "code",
   "execution_count": 7,
   "metadata": {},
   "outputs": [],
   "source": [
    "import re\n",
    "import pandas as pd\n",
    "from sklearn.feature_extraction.text import CountVectorizer\n",
    "import jieba\n",
    "import jieba.analyse\n",
    "from sklearn.feature_extraction.text import TfidfTransformer\n",
    "from sklearn.neighbors import KNeighborsClassifier\n",
    "from sklearn import metrics\n",
    "from sklearn.model_selection import train_test_split"
   ]
  },
  {
   "cell_type": "code",
   "execution_count": 8,
   "metadata": {},
   "outputs": [],
   "source": [
    "def cutval(df):\n",
    "    name_cut = []\n",
    "    for d in df['中文名稱']:\n",
    "        ch =re.compile(\"[\\u4e00-\\u9fa5]\")\n",
    "        name =  \"\".join(ch.findall(d))\n",
    "        name_cut.append(name)\n",
    "\n",
    "    type_cut = []\n",
    "    for d in df['類型']:\n",
    "        ch =re.compile(\"[\\u4e00-\\u9fa5]\")\n",
    "        seg_word =  \"\".join(ch.findall(d))\n",
    "        types = jieba.lcut(seg_word)\n",
    "        type_cut.append(types)\n",
    "\n",
    "    intro_cut = []\n",
    "    for d in df['簡介']:\n",
    "        intro = jieba.analyse.extract_tags(d,topK=2)\n",
    "        intro_cut.append(intro)\n",
    "    \n",
    "\n",
    "    data = {'name':name_cut,'type':type_cut ,'article':intro_cut}\n",
    "    df1 = pd.DataFrame(data)\n",
    "\n",
    "    df1['type'] = df1['type'].apply(lambda x :  str(x)[1:-2].replace(\"'\",\"\").replace(\",\",\"\"))\n",
    "    df1['article'] = df1['article'].apply(lambda x :  str(x)[1:-2].replace(\"'\",\"\").replace(\",\",\"\"))\n",
    "    df1['key'] = df1['name'].astype(str)+' '+df1['type'].astype(str)+' '+df1['article'].astype(str)\n",
    "    return df1"
   ]
  }
 ],
 "metadata": {
  "kernelspec": {
   "display_name": "Python 3",
   "language": "python",
   "name": "python3"
  },
  "language_info": {
   "codemirror_mode": {
    "name": "ipython",
    "version": 3
   },
   "file_extension": ".py",
   "mimetype": "text/x-python",
   "name": "python",
   "nbconvert_exporter": "python",
   "pygments_lexer": "ipython3",
   "version": "3.7.6"
  }
 },
 "nbformat": 4,
 "nbformat_minor": 4
}
